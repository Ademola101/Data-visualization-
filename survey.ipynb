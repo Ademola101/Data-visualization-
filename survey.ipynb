{
 "nbformat": 4,
 "nbformat_minor": 2,
 "metadata": {
  "language_info": {
   "name": "python",
   "codemirror_mode": {
    "name": "ipython",
    "version": 3
   },
   "version": "3.8.2-final"
  },
  "orig_nbformat": 2,
  "file_extension": ".py",
  "mimetype": "text/x-python",
  "name": "python",
  "npconvert_exporter": "python",
  "pygments_lexer": "ipython3",
  "version": 3,
  "kernelspec": {
   "name": "python38264bitb29c3f81c7314b97a9f93ab47a4e99c8",
   "display_name": "Python 3.8.2 64-bit"
  }
 },
 "cells": [
  {
   "cell_type": "markdown",
   "metadata": {},
   "source": [
    "### Linkedln Challenge\n",
    "## Stack overflow Annual Developer Survey"
   ]
  },
  {
   "cell_type": "code",
   "execution_count": 1,
   "metadata": {},
   "outputs": [],
   "source": [
    "import pandas as pd \n",
    "import numpy as np \n",
    "import matplotlib.pyplot as plt\n",
    "import seaborn as sns"
   ]
  },
  {
   "cell_type": "code",
   "execution_count": 208,
   "metadata": {},
   "outputs": [],
   "source": [
    "#survey = pd.read_csv(\"survey_results_public.csv\")\n",
    "#survey.head()"
   ]
  },
  {
   "cell_type": "markdown",
   "metadata": {},
   "source": [
    "## 1. How many developers participated in this survey?"
   ]
  },
  {
   "cell_type": "code",
   "execution_count": 169,
   "metadata": {},
   "outputs": [
    {
     "output_type": "execute_result",
     "data": {
      "text/plain": "64461"
     },
     "metadata": {},
     "execution_count": 169
    }
   ],
   "source": [
    "survey.Respondent.count()"
   ]
  },
  {
   "cell_type": "markdown",
   "metadata": {},
   "source": [
    "## 2. Find the top ten countries participating devs are from"
   ]
  },
  {
   "cell_type": "code",
   "execution_count": 171,
   "metadata": {},
   "outputs": [
    {
     "output_type": "execute_result",
     "data": {
      "text/plain": "           Country  Respondent\n1    United States       12469\n2            India        8403\n3   United Kingdom        3896\n4          Germany        3890\n5           Canada        2191\n6           France        1898\n7           Brazil        1818\n8      Netherlands        1343\n9           Poland        1278\n10       Australia        1208",
      "text/html": "<div>\n<style scoped>\n    .dataframe tbody tr th:only-of-type {\n        vertical-align: middle;\n    }\n\n    .dataframe tbody tr th {\n        vertical-align: top;\n    }\n\n    .dataframe thead th {\n        text-align: right;\n    }\n</style>\n<table border=\"1\" class=\"dataframe\">\n  <thead>\n    <tr style=\"text-align: right;\">\n      <th></th>\n      <th>Country</th>\n      <th>Respondent</th>\n    </tr>\n  </thead>\n  <tbody>\n    <tr>\n      <th>1</th>\n      <td>United States</td>\n      <td>12469</td>\n    </tr>\n    <tr>\n      <th>2</th>\n      <td>India</td>\n      <td>8403</td>\n    </tr>\n    <tr>\n      <th>3</th>\n      <td>United Kingdom</td>\n      <td>3896</td>\n    </tr>\n    <tr>\n      <th>4</th>\n      <td>Germany</td>\n      <td>3890</td>\n    </tr>\n    <tr>\n      <th>5</th>\n      <td>Canada</td>\n      <td>2191</td>\n    </tr>\n    <tr>\n      <th>6</th>\n      <td>France</td>\n      <td>1898</td>\n    </tr>\n    <tr>\n      <th>7</th>\n      <td>Brazil</td>\n      <td>1818</td>\n    </tr>\n    <tr>\n      <th>8</th>\n      <td>Netherlands</td>\n      <td>1343</td>\n    </tr>\n    <tr>\n      <th>9</th>\n      <td>Poland</td>\n      <td>1278</td>\n    </tr>\n    <tr>\n      <th>10</th>\n      <td>Australia</td>\n      <td>1208</td>\n    </tr>\n  </tbody>\n</table>\n</div>"
     },
     "metadata": {},
     "execution_count": 171
    }
   ],
   "source": [
    "Top_ten = survey.groupby(\"Country\").count().sort_values(by=\"Respondent\",ascending=False).head(10)\n",
    "Top_ten1 = Top_ten[[\"Respondent\"]]\n",
    "index = np.arange(1,11)\n",
    "Top_ten1.reset_index(level=0,inplace=True)\n",
    "Top_ten1.index = index\n",
    "Top_ten1"
   ]
  },
  {
   "cell_type": "markdown",
   "metadata": {},
   "source": [
    "## 3. How many are from Nigeria?"
   ]
  },
  {
   "cell_type": "code",
   "execution_count": 176,
   "metadata": {},
   "outputs": [
    {
     "output_type": "execute_result",
     "data": {
      "text/plain": "593"
     },
     "metadata": {},
     "execution_count": 176
    }
   ],
   "source": [
    "Naija_dev = survey[survey[\"Country\"]==\"Nigeria\"]\n",
    "len(Naija_dev)"
   ]
  },
  {
   "cell_type": "markdown",
   "metadata": {},
   "source": [
    "## 4. What is the average age of the Nigerian dev?"
   ]
  },
  {
   "cell_type": "code",
   "execution_count": 209,
   "metadata": {},
   "outputs": [
    {
     "output_type": "execute_result",
     "data": {
      "text/plain": "26.0"
     },
     "metadata": {},
     "execution_count": 209
    }
   ],
   "source": [
    "Naija_dev.Age.dropna(inplace=True)\n",
    "round(Naija_dev.Age.mean(),0)"
   ]
  },
  {
   "cell_type": "markdown",
   "metadata": {},
   "source": [
    "## 5. What are the kind of employment they are in?"
   ]
  },
  {
   "cell_type": "code",
   "execution_count": 179,
   "metadata": {},
   "outputs": [
    {
     "output_type": "execute_result",
     "data": {
      "text/plain": "                                                    Respondent\nEmployment                                                    \nEmployed full-time                                         187\nStudent                                                    135\nNot employed, but looking for work                         118\nIndependent contractor, freelancer, or self-emp...         109\nEmployed part-time                                          36\nNot employed, and not looking for work                       4",
      "text/html": "<div>\n<style scoped>\n    .dataframe tbody tr th:only-of-type {\n        vertical-align: middle;\n    }\n\n    .dataframe tbody tr th {\n        vertical-align: top;\n    }\n\n    .dataframe thead th {\n        text-align: right;\n    }\n</style>\n<table border=\"1\" class=\"dataframe\">\n  <thead>\n    <tr style=\"text-align: right;\">\n      <th></th>\n      <th>Respondent</th>\n    </tr>\n    <tr>\n      <th>Employment</th>\n      <th></th>\n    </tr>\n  </thead>\n  <tbody>\n    <tr>\n      <th>Employed full-time</th>\n      <td>187</td>\n    </tr>\n    <tr>\n      <th>Student</th>\n      <td>135</td>\n    </tr>\n    <tr>\n      <th>Not employed, but looking for work</th>\n      <td>118</td>\n    </tr>\n    <tr>\n      <th>Independent contractor, freelancer, or self-employed</th>\n      <td>109</td>\n    </tr>\n    <tr>\n      <th>Employed part-time</th>\n      <td>36</td>\n    </tr>\n    <tr>\n      <th>Not employed, and not looking for work</th>\n      <td>4</td>\n    </tr>\n  </tbody>\n</table>\n</div>"
     },
     "metadata": {},
     "execution_count": 179
    }
   ],
   "source": [
    "Naija_dev.groupby(\"Employment\").count().sort_values(by=\"Respondent\",ascending=False)[[\"Respondent\"]]"
   ]
  },
  {
   "cell_type": "markdown",
   "metadata": {},
   "source": [
    "## 6. What is the gender distribution?"
   ]
  },
  {
   "cell_type": "code",
   "execution_count": 180,
   "metadata": {},
   "outputs": [
    {
     "output_type": "execute_result",
     "data": {
      "text/plain": "                                                   Gender\nMan                                                   408\nWoman                                                  31\nWoman;Man                                               2\nNon-binary, genderqueer, or gender non-conforming       1",
      "text/html": "<div>\n<style scoped>\n    .dataframe tbody tr th:only-of-type {\n        vertical-align: middle;\n    }\n\n    .dataframe tbody tr th {\n        vertical-align: top;\n    }\n\n    .dataframe thead th {\n        text-align: right;\n    }\n</style>\n<table border=\"1\" class=\"dataframe\">\n  <thead>\n    <tr style=\"text-align: right;\">\n      <th></th>\n      <th>Gender</th>\n    </tr>\n  </thead>\n  <tbody>\n    <tr>\n      <th>Man</th>\n      <td>408</td>\n    </tr>\n    <tr>\n      <th>Woman</th>\n      <td>31</td>\n    </tr>\n    <tr>\n      <th>Woman;Man</th>\n      <td>2</td>\n    </tr>\n    <tr>\n      <th>Non-binary, genderqueer, or gender non-conforming</th>\n      <td>1</td>\n    </tr>\n  </tbody>\n</table>\n</div>"
     },
     "metadata": {},
     "execution_count": 180
    }
   ],
   "source": [
    "pd.DataFrame(Naija_dev[\"Gender\"].value_counts())"
   ]
  },
  {
   "cell_type": "markdown",
   "metadata": {},
   "source": [
    "## 7. What major did they study in school?"
   ]
  },
  {
   "cell_type": "code",
   "execution_count": 212,
   "metadata": {},
   "outputs": [
    {
     "output_type": "execute_result",
     "data": {
      "text/plain": "                                                    Total\nUndergraduate Major                                      \nComputer science, computer engineering, or soft...    192\nAnother engineering discipline (such as civil, ...     62\nA natural science (such as biology, chemistry, ...     32\nMathematics or statistics                              24\nInformation systems, information technology, or...     23\nA business discipline (such as accounting, fina...     18\nA health science (such as nursing, pharmacy, ra...     10\nA social science (such as anthropology, psychol...      9\nA humanities discipline (such as literature, hi...      9\nWeb development or web design                           8\nI never declared a major                                3\nFine arts or performing arts (such as graphic d...      3",
      "text/html": "<div>\n<style scoped>\n    .dataframe tbody tr th:only-of-type {\n        vertical-align: middle;\n    }\n\n    .dataframe tbody tr th {\n        vertical-align: top;\n    }\n\n    .dataframe thead th {\n        text-align: right;\n    }\n</style>\n<table border=\"1\" class=\"dataframe\">\n  <thead>\n    <tr style=\"text-align: right;\">\n      <th></th>\n      <th>Total</th>\n    </tr>\n    <tr>\n      <th>Undergraduate Major</th>\n      <th></th>\n    </tr>\n  </thead>\n  <tbody>\n    <tr>\n      <th>Computer science, computer engineering, or software engineering</th>\n      <td>192</td>\n    </tr>\n    <tr>\n      <th>Another engineering discipline (such as civil, electrical, mechanical, etc.)</th>\n      <td>62</td>\n    </tr>\n    <tr>\n      <th>A natural science (such as biology, chemistry, physics, etc.)</th>\n      <td>32</td>\n    </tr>\n    <tr>\n      <th>Mathematics or statistics</th>\n      <td>24</td>\n    </tr>\n    <tr>\n      <th>Information systems, information technology, or system administration</th>\n      <td>23</td>\n    </tr>\n    <tr>\n      <th>A business discipline (such as accounting, finance, marketing, etc.)</th>\n      <td>18</td>\n    </tr>\n    <tr>\n      <th>A health science (such as nursing, pharmacy, radiology, etc.)</th>\n      <td>10</td>\n    </tr>\n    <tr>\n      <th>A social science (such as anthropology, psychology, political science, etc.)</th>\n      <td>9</td>\n    </tr>\n    <tr>\n      <th>A humanities discipline (such as literature, history, philosophy, etc.)</th>\n      <td>9</td>\n    </tr>\n    <tr>\n      <th>Web development or web design</th>\n      <td>8</td>\n    </tr>\n    <tr>\n      <th>I never declared a major</th>\n      <td>3</td>\n    </tr>\n    <tr>\n      <th>Fine arts or performing arts (such as graphic design, music, studio art, etc.)</th>\n      <td>3</td>\n    </tr>\n  </tbody>\n</table>\n</div>"
     },
     "metadata": {},
     "execution_count": 212
    }
   ],
   "source": [
    "major = pd.DataFrame(Naija_dev[\"UndergradMajor\"].value_counts())\n",
    "major.rename(columns={\"UndergradMajor\":\"Total\"},inplace=True)\n",
    "major.index.names = [\"Undergraduate Major\"]\n",
    "major"
   ]
  },
  {
   "cell_type": "markdown",
   "metadata": {},
   "source": [
    "## 8. What languages have they worked with?"
   ]
  },
  {
   "cell_type": "code",
   "execution_count": 189,
   "metadata": {},
   "outputs": [
    {
     "output_type": "execute_result",
     "data": {
      "text/plain": "                                     Respondent\nNaija dev languages worked with                \nHTML/CSS;JavaScript                          36\nHTML/CSS;JavaScript;PHP;SQL                  28\nHTML/CSS;JavaScript;PHP                      16\nHTML/CSS;JavaScript;TypeScript               14\nPython                                       13\n...                                         ...\nC++;HTML/CSS;Java;JavaScript;Python           1\nC++;HTML/CSS;Java;JavaScript;SQL              1\nC++;HTML/CSS;Java;PHP;Python;SQL              1\nC++;HTML/CSS;Java;PHP;SQL                     1\nR                                             1\n\n[270 rows x 1 columns]",
      "text/html": "<div>\n<style scoped>\n    .dataframe tbody tr th:only-of-type {\n        vertical-align: middle;\n    }\n\n    .dataframe tbody tr th {\n        vertical-align: top;\n    }\n\n    .dataframe thead th {\n        text-align: right;\n    }\n</style>\n<table border=\"1\" class=\"dataframe\">\n  <thead>\n    <tr style=\"text-align: right;\">\n      <th></th>\n      <th>Respondent</th>\n    </tr>\n    <tr>\n      <th>Naija dev languages worked with</th>\n      <th></th>\n    </tr>\n  </thead>\n  <tbody>\n    <tr>\n      <th>HTML/CSS;JavaScript</th>\n      <td>36</td>\n    </tr>\n    <tr>\n      <th>HTML/CSS;JavaScript;PHP;SQL</th>\n      <td>28</td>\n    </tr>\n    <tr>\n      <th>HTML/CSS;JavaScript;PHP</th>\n      <td>16</td>\n    </tr>\n    <tr>\n      <th>HTML/CSS;JavaScript;TypeScript</th>\n      <td>14</td>\n    </tr>\n    <tr>\n      <th>Python</th>\n      <td>13</td>\n    </tr>\n    <tr>\n      <th>...</th>\n      <td>...</td>\n    </tr>\n    <tr>\n      <th>C++;HTML/CSS;Java;JavaScript;Python</th>\n      <td>1</td>\n    </tr>\n    <tr>\n      <th>C++;HTML/CSS;Java;JavaScript;SQL</th>\n      <td>1</td>\n    </tr>\n    <tr>\n      <th>C++;HTML/CSS;Java;PHP;Python;SQL</th>\n      <td>1</td>\n    </tr>\n    <tr>\n      <th>C++;HTML/CSS;Java;PHP;SQL</th>\n      <td>1</td>\n    </tr>\n    <tr>\n      <th>R</th>\n      <td>1</td>\n    </tr>\n  </tbody>\n</table>\n<p>270 rows × 1 columns</p>\n</div>"
     },
     "metadata": {},
     "execution_count": 189
    }
   ],
   "source": [
    "Naija_dev_language= Naija_dev.groupby(\"LanguageWorkedWith\").count().sort_values(by=\"Respondent\",ascending=False)[[\"Respondent\"]]\n",
    "Naija_dev_language.index.names = [ \"Naija dev languages worked with\"]\n",
    "Naija_dev_language"
   ]
  },
  {
   "cell_type": "markdown",
   "metadata": {},
   "source": [
    "## 9. What is the average number of languages they have worked with?"
   ]
  },
  {
   "cell_type": "code",
   "execution_count": 190,
   "metadata": {},
   "outputs": [
    {
     "output_type": "execute_result",
     "data": {
      "text/plain": "2.0"
     },
     "metadata": {},
     "execution_count": 190
    }
   ],
   "source": [
    "round(Naija_dev[\"LanguageWorkedWith\"].value_counts().mean(),0)"
   ]
  },
  {
   "cell_type": "markdown",
   "metadata": {},
   "source": [
    "## 10. What is the avegrage number of years of experience of the Nigerian developer?"
   ]
  },
  {
   "cell_type": "code",
   "execution_count": 194,
   "metadata": {},
   "outputs": [
    {
     "output_type": "execute_result",
     "data": {
      "text/plain": "4.516588071660985e+235"
     },
     "metadata": {},
     "execution_count": 194
    }
   ],
   "source": [
    "round(Naija_dev[pd.to_numeric(Naija_dev.YearsCodePro,errors=\"coerce\").notnull()][\"YearsCodePro\"].mean(),1)"
   ]
  },
  {
   "cell_type": "markdown",
   "metadata": {},
   "source": [
    "## 11. How many dev are women,age below 25 and earn a living from dev?"
   ]
  },
  {
   "cell_type": "code",
   "execution_count": 198,
   "metadata": {},
   "outputs": [
    {
     "output_type": "execute_result",
     "data": {
      "text/plain": "498"
     },
     "metadata": {},
     "execution_count": 198
    }
   ],
   "source": [
    "survey.Employment.value_counts()\n",
    "age_less_25 = survey[survey[\"Age\"]<25]\n",
    "women_age_less_than_25 = age_less_25[age_less_25[\"Gender\"]==\"Woman\"]\n",
    "len(women_age_less_than_25[women_age_less_than_25[\"Employment\"].isin([\"Employed full-time\",\"Independent contractor, freelancer, or self-employed\",\"Employed part-time\"])])"
   ]
  },
  {
   "cell_type": "markdown",
   "metadata": {},
   "source": [
    "## 12. What are the 10 most popular languages among Naija devs?"
   ]
  },
  {
   "cell_type": "code",
   "execution_count": 207,
   "metadata": {},
   "outputs": [
    {
     "output_type": "execute_result",
     "data": {
      "text/plain": "    Ten most popular languages among  Naija dev  Total\n1                           HTML/CSS;JavaScript     36\n2                   HTML/CSS;JavaScript;PHP;SQL     28\n3                       HTML/CSS;JavaScript;PHP     16\n4                HTML/CSS;JavaScript;TypeScript     14\n5                                        Python     13\n6                                      HTML/CSS     12\n7                    HTML/CSS;JavaScript;Python     10\n8                                          Java      9\n9              HTML/CSS;Java;JavaScript;PHP;SQL      8\n10                              HTML/CSS;Python      8",
      "text/html": "<div>\n<style scoped>\n    .dataframe tbody tr th:only-of-type {\n        vertical-align: middle;\n    }\n\n    .dataframe tbody tr th {\n        vertical-align: top;\n    }\n\n    .dataframe thead th {\n        text-align: right;\n    }\n</style>\n<table border=\"1\" class=\"dataframe\">\n  <thead>\n    <tr style=\"text-align: right;\">\n      <th></th>\n      <th>Ten most popular languages among  Naija dev</th>\n      <th>Total</th>\n    </tr>\n  </thead>\n  <tbody>\n    <tr>\n      <th>1</th>\n      <td>HTML/CSS;JavaScript</td>\n      <td>36</td>\n    </tr>\n    <tr>\n      <th>2</th>\n      <td>HTML/CSS;JavaScript;PHP;SQL</td>\n      <td>28</td>\n    </tr>\n    <tr>\n      <th>3</th>\n      <td>HTML/CSS;JavaScript;PHP</td>\n      <td>16</td>\n    </tr>\n    <tr>\n      <th>4</th>\n      <td>HTML/CSS;JavaScript;TypeScript</td>\n      <td>14</td>\n    </tr>\n    <tr>\n      <th>5</th>\n      <td>Python</td>\n      <td>13</td>\n    </tr>\n    <tr>\n      <th>6</th>\n      <td>HTML/CSS</td>\n      <td>12</td>\n    </tr>\n    <tr>\n      <th>7</th>\n      <td>HTML/CSS;JavaScript;Python</td>\n      <td>10</td>\n    </tr>\n    <tr>\n      <th>8</th>\n      <td>Java</td>\n      <td>9</td>\n    </tr>\n    <tr>\n      <th>9</th>\n      <td>HTML/CSS;Java;JavaScript;PHP;SQL</td>\n      <td>8</td>\n    </tr>\n    <tr>\n      <th>10</th>\n      <td>HTML/CSS;Python</td>\n      <td>8</td>\n    </tr>\n  </tbody>\n</table>\n</div>"
     },
     "metadata": {},
     "execution_count": 207
    }
   ],
   "source": [
    "a = pd.DataFrame(Naija_dev[\"LanguageWorkedWith\"].value_counts()).head(10)\n",
    "a.rename(columns={\"LanguageWorkedWith\":\"Total\"},inplace=True)\n",
    "a.index.names= [\" Ten most popular languages among  Naija dev\"]\n",
    "a.reset_index(level=0,inplace=True)\n",
    "index = np.arange(1,11)\n",
    "a.index=index\n",
    "a"
   ]
  },
  {
   "cell_type": "code",
   "execution_count": null,
   "metadata": {},
   "outputs": [],
   "source": []
  }
 ]
}